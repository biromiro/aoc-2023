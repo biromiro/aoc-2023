{
 "cells": [
  {
   "cell_type": "code",
   "execution_count": 62,
   "metadata": {},
   "outputs": [
    {
     "name": "stdout",
     "output_type": "stream",
     "text": [
      "[364807853, 408612163, 302918330, 20208251, 1499552892, 200291842, 3284226943, 16030044, 2593569946, 345762334, 3692780593, 17215731, 1207118682, 189983080, 2231594291, 72205975, 3817565407, 443061598, 2313976854, 203929368]\n",
      "[[2069473506, 3732587455, 1483883], [3235691256, 2348990120, 6550341], [3547561069, 1392195671, 747406227], [3264251584, 3734071338, 283309485], [391285622, 257757572, 195552540], [1645243555, 3166958320, 377191689], [335002083, 512210869, 56283539], [3242241597, 897735089, 22009987], [77244511, 0, 257757572], [989159646, 4172023334, 122943962], [605476380, 3544150009, 188437446], [0, 568494408, 18343754], [2700122696, 4050276683, 121746651], [2022435244, 2139601898, 47038262], [2227672101, 919745076, 95840269], [1112103608, 2633818373, 533139947], [826809686, 2186640160, 162349960], [3100147259, 762191092, 135543997], [18343754, 453310112, 58900757], [2323512370, 1015585345, 282396986], [2605909356, 1297982331, 94213340], [2821869347, 2355540461, 278277912], [793913826, 4017380823, 32895860], [2070957389, 605476380, 156714712]]\n",
      "[[2700214958, 2743391193, 363795571], [1484584575, 1440072796, 24660284], [927520818, 435059068, 191969051], [1588488926, 1434420334, 5652462], [1423277199, 141187887, 5443857], [1594141388, 1350997453, 83422881], [1986188257, 3933008893, 120750463], [1509244859, 146631744, 79093544], [3712482038, 4220862006, 74105290], [3948206286, 1986188257, 277570873], [291046304, 281588807, 153470261], [1119489869, 918224946, 303787330], [1677564269, 1321192605, 29804848], [2309878676, 2336743687, 390336282], [3079951473, 3306332300, 449116691], [444516565, 1222012276, 99180329], [543696894, 1464733080, 383823924], [3895169406, 3771389935, 53036880], [3529068164, 4053759356, 167102650], [0, 627178642, 291046304], [3696170814, 2727079969, 16311224], [3855550220, 3824426815, 39619186], [2106938720, 3107186764, 199145536], [1428721056, 225725288, 55863519], [1707369117, 0, 64378064], [1771747181, 64378064, 76809823], [3064010529, 3755448991, 15940944], [2306084256, 2332949267, 3794420], [4225777159, 2263759130, 69190137], [3786587328, 3864046001, 68962892], [1588338403, 627028119, 150523]]\n",
      "[[2299879115, 39069388, 7889905], [514481680, 504392888, 101474410], [3448524168, 0, 25428313], [13641075, 1832356728, 472401611], [0, 25428313, 13641075], [1842445520, 108629584, 395763304], [486042686, 3445513487, 28438994], [2307769020, 2304758339, 1140755148], [2238208824, 46959293, 61670291], [615956090, 605867298, 1226489430]]\n",
      "[[1318826171, 2010420436, 223477535], [2278894745, 2233897971, 671603259], [988189854, 447584401, 27746374], [2132052210, 300741866, 146842535], [0, 1279660741, 97125596], [3531244480, 3147213622, 507810286], [257581844, 3816963790, 101424269], [1298609589, 3918388059, 20216582], [3317726838, 1072550929, 21856732], [3065323607, 1254863909, 4121973], [97125596, 1094407661, 160456248], [359006113, 1057194484, 15356445], [374362558, 1636971609, 104335413], [4039054766, 475330775, 9209679], [1038424317, 1376786337, 260185272], [878530050, 3938604641, 109659804], [1784016098, 3738041092, 78922698], [3152462764, 0, 165264074], [1862938796, 1741307022, 269113414], [497536930, 676201364, 380993120], [3069445580, 3655023908, 83017184], [2950498004, 165264074, 114825603], [1015936228, 1258985882, 1835900], [478697971, 1260821782, 18838959], [1017772128, 280089677, 20652189], [1542303706, 2905501230, 241712392], [3339583570, 484540454, 191660910]]\n",
      "[[2827696039, 489007811, 183207687], [1480301347, 3744628626, 306791400], [695239418, 130668965, 358338846], [1297125534, 2232912413, 183175813], [3979319170, 1917264287, 315648126], [3010903726, 948848843, 968415444], [130668965, 2663473525, 564570453], [1053578264, 4051420026, 243547270], [2303677395, 672215498, 276633345], [1787092747, 3228043978, 516584648], [2580310740, 2416088226, 247385299]]\n",
      "[[4161466647, 3871737509, 133500649], [2423686895, 2864370860, 72123408], [1983529997, 0, 320533964], [3184295196, 2695571092, 41928210], [0, 822932241, 605870242], [3557076981, 3267347843, 604389666], [3226223406, 2936494268, 330853575], [2495810303, 2737499302, 126871558], [1108268519, 1428802483, 491674128], [605870242, 320533964, 502398277], [2622681861, 2423686895, 271884197], [2894566058, 4005238158, 289729138], [1599942647, 1920476611, 383587350]]\n",
      "[[2945628300, 1864953738, 334378942], [3467273713, 3579654586, 715312710], [975015905, 1356290883, 508662855], [1483678760, 2498980024, 1080674562], [3443998409, 2199332680, 23275304], [3280007242, 2222607984, 163991167], [4182586423, 2386599151, 112380873], [2564353322, 975015905, 381274978]]\n"
     ]
    }
   ],
   "source": [
    "with open('5.txt') as f:\n",
    "    lines = f.read()\n",
    "    seeds, rest = lines.split('seed-to-soil map:')\n",
    "    seeds = [int(seed) for seed in seeds.strip().split('seeds:')[1].split(' ') if seed != '']\n",
    "    seed_to_soil, rest = rest.split('soil-to-fertilizer map:')\n",
    "    seed_to_soil = [[int(soil_index) for soil_index in soil_map.split(' ') if soil_index != ''] for soil_map in seed_to_soil.strip().split('\\n') if soil_map != '']\n",
    "    soil_to_fertilizer, rest = rest.split('fertilizer-to-water map:')\n",
    "    soil_to_fertilizer = [[int(fertilizer_index) for fertilizer_index in fertilizer_map.split(' ') if fertilizer_index != ''] for fertilizer_map in soil_to_fertilizer.strip().split('\\n') if fertilizer_map != '']\n",
    "    fertilizer_to_water, rest = rest.split('water-to-light map:')\n",
    "    fertilizer_to_water = [[int(water_index) for water_index in water_map.split(' ') if water_index != ''] for water_map in fertilizer_to_water.strip().split('\\n') if water_map != '']\n",
    "    water_to_light, rest = rest.split('light-to-temperature map:')\n",
    "    water_to_light = [[int(light_index) for light_index in light_map.split(' ') if light_index != ''] for light_map in water_to_light.strip().split('\\n') if light_map != '']\n",
    "    light_to_temperature, rest = rest.split('temperature-to-humidity map:')\n",
    "    light_to_temperature = [[int(temperature_index) for temperature_index in temperature_map.split(' ') if temperature_index != ''] for temperature_map in light_to_temperature.strip().split('\\n') if temperature_map != '']\n",
    "    temperature_to_humidity, humidity_to_location = rest.split('humidity-to-location map:')\n",
    "    temperature_to_humidity = [[int(humidity_index) for humidity_index in humidity_map.split(' ') if humidity_index != ''] for humidity_map in temperature_to_humidity.strip().split('\\n') if humidity_map != '']\n",
    "    humidity_to_location = [[int(location_index) for location_index in location_map.split(' ') if location_index != ''] for location_map in humidity_to_location.strip().split('\\n') if location_map != '']\n",
    "\n",
    "    print(seeds)\n",
    "    print(seed_to_soil)\n",
    "    print(soil_to_fertilizer)\n",
    "    print(fertilizer_to_water)\n",
    "    print(water_to_light)\n",
    "    print(light_to_temperature)\n",
    "    print(temperature_to_humidity)\n",
    "    print(humidity_to_location)"
   ]
  },
  {
   "cell_type": "code",
   "execution_count": 63,
   "metadata": {},
   "outputs": [],
   "source": [
    "def find_key(arr, value):\n",
    "    # each arr has several arrays\n",
    "    # each subarray has 3 elements\n",
    "    # the first element is the start index of the mapping\n",
    "    # the second element is the corresponding mapping\n",
    "    # the third element is the range of the mapping\n",
    "    for subarr in arr:\n",
    "        if subarr[1] <= value and value <= subarr[1] + subarr[2]:\n",
    "            return subarr[0] + (value - subarr[1])\n",
    "        \n",
    "    return value"
   ]
  },
  {
   "cell_type": "code",
   "execution_count": 64,
   "metadata": {},
   "outputs": [
    {
     "name": "stdout",
     "output_type": "stream",
     "text": [
      "[1637377610, 1681181920, 4187781657, 4175945593, 2820055176, 2488741650, 3361761505, 4171767386, 3895938902, 1618332091, 1918457551, 4172953073, 2173833505, 2478432888, 2036114404, 2520273130, 4000581131, 1181555926, 2607462178, 2492379176]\n",
      "1181555926\n"
     ]
    }
   ],
   "source": [
    "seed_locations = []\n",
    "for seed in seeds:\n",
    "    soil = find_key(seed_to_soil, seed)\n",
    "    fertilizer = find_key(soil_to_fertilizer, soil)\n",
    "    water = find_key(fertilizer_to_water, fertilizer)\n",
    "    light = find_key(water_to_light, water)\n",
    "    temperature = find_key(light_to_temperature, light)\n",
    "    humidity = find_key(temperature_to_humidity, temperature)\n",
    "    location = find_key(humidity_to_location, humidity)\n",
    "    seed_locations.append(location)\n",
    "    \n",
    "print(seed_locations)\n",
    "print(min(seed_locations))"
   ]
  },
  {
   "cell_type": "code",
   "execution_count": 65,
   "metadata": {},
   "outputs": [
    {
     "data": {
      "text/plain": [
       "[[364807853, 408612163],\n",
       " [302918330, 20208251],\n",
       " [1499552892, 200291842],\n",
       " [3284226943, 16030044],\n",
       " [2593569946, 345762334],\n",
       " [3692780593, 17215731],\n",
       " [1207118682, 189983080],\n",
       " [2231594291, 72205975],\n",
       " [3817565407, 443061598],\n",
       " [2313976854, 203929368]]"
      ]
     },
     "execution_count": 65,
     "metadata": {},
     "output_type": "execute_result"
    }
   ],
   "source": [
    "# divide the seeds array into pairs\n",
    "# each pair has 2 elements\n",
    "\n",
    "seed_pairs = [seeds[i:i+2] for i in range(0, len(seeds), 2)]\n",
    "seed_pairs"
   ]
  },
  {
   "cell_type": "code",
   "execution_count": 66,
   "metadata": {},
   "outputs": [],
   "source": [
    "def find_reverse_key(arr, value):\n",
    "    for subarr in arr:\n",
    "        if subarr[0] <= value and value <= subarr[0] + subarr[2]:\n",
    "            return subarr[1] + (value - subarr[0])\n",
    "        \n",
    "    return value"
   ]
  },
  {
   "cell_type": "code",
   "execution_count": 67,
   "metadata": {},
   "outputs": [
    {
     "data": {
      "text/plain": [
       "[[2945628300, 1864953738, 334378942],\n",
       " [3467273713, 3579654586, 715312710],\n",
       " [975015905, 1356290883, 508662855],\n",
       " [1483678760, 2498980024, 1080674562],\n",
       " [3443998409, 2199332680, 23275304],\n",
       " [3280007242, 2222607984, 163991167],\n",
       " [4182586423, 2386599151, 112380873],\n",
       " [2564353322, 975015905, 381274978]]"
      ]
     },
     "execution_count": 67,
     "metadata": {},
     "output_type": "execute_result"
    }
   ],
   "source": [
    "sorted(humidity_to_location, key=lambda x: x[0])\n",
    "humidity_to_location"
   ]
  },
  {
   "cell_type": "code",
   "execution_count": 68,
   "metadata": {},
   "outputs": [
    {
     "name": "stdout",
     "output_type": "stream",
     "text": [
      "[364807853, 408612163]\n",
      "[302918330, 20208251]\n",
      "[1499552892, 200291842]\n",
      "[3284226943, 16030044]\n",
      "[2593569946, 345762334]\n",
      "[3692780593, 17215731]\n",
      "[1207118682, 189983080]\n",
      "[2231594291, 72205975]\n",
      "[3817565407, 443061598]\n",
      "[2313976854, 203929368]\n"
     ]
    }
   ],
   "source": [
    "for seed_pair in seed_pairs:\n",
    "    print(seed_pair)\n",
    "    if 13 <= seed_pair[0] + seed_pair[1] and 13 >= seed_pair[0]:\n",
    "        print(13)\n",
    "        break"
   ]
  },
  {
   "cell_type": "code",
   "execution_count": 69,
   "metadata": {},
   "outputs": [],
   "source": [
    "def find_lowest_location():\n",
    "    location = 0\n",
    "    while True:\n",
    "        humidity = find_reverse_key(humidity_to_location, location)\n",
    "        temperature = find_reverse_key(temperature_to_humidity, humidity)\n",
    "        light = find_reverse_key(light_to_temperature, temperature)\n",
    "        water = find_reverse_key(water_to_light, light)\n",
    "        fertilizer = find_reverse_key(fertilizer_to_water, water)\n",
    "        soil = find_reverse_key(soil_to_fertilizer, fertilizer)\n",
    "        seed = find_reverse_key(seed_to_soil, soil)\n",
    "        for seed_pair in seed_pairs:\n",
    "            if seed <= seed_pair[0] + seed_pair[1] and seed >= seed_pair[0]:\n",
    "                return location\n",
    "        location += 1\n",
    "    "
   ]
  },
  {
   "cell_type": "code",
   "execution_count": 70,
   "metadata": {},
   "outputs": [
    {
     "data": {
      "text/plain": [
       "37806486"
      ]
     },
     "execution_count": 70,
     "metadata": {},
     "output_type": "execute_result"
    }
   ],
   "source": [
    "find_lowest_location()"
   ]
  }
 ],
 "metadata": {
  "kernelspec": {
   "display_name": "Python 3",
   "language": "python",
   "name": "python3"
  },
  "language_info": {
   "codemirror_mode": {
    "name": "ipython",
    "version": 3
   },
   "file_extension": ".py",
   "mimetype": "text/x-python",
   "name": "python",
   "nbconvert_exporter": "python",
   "pygments_lexer": "ipython3",
   "version": "3.11.0"
  }
 },
 "nbformat": 4,
 "nbformat_minor": 2
}
