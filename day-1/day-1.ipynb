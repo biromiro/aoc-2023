{
 "cells": [
  {
   "cell_type": "code",
   "execution_count": 5,
   "metadata": {},
   "outputs": [
    {
     "data": {
      "text/plain": [
       "54708"
      ]
     },
     "execution_count": 5,
     "metadata": {},
     "output_type": "execute_result"
    }
   ],
   "source": [
    "import numpy as np\n",
    "\n",
    "# read input strings from input.txt\n",
    "with open('input.txt', 'r') as f:\n",
    "    lines = f.readlines()\n",
    "    for i in range(len(lines)):\n",
    "        lines[i] = lines[i].strip()\n",
    "        # keep only the numbers\n",
    "        lines[i] = [s for s in lines[i] if s.isdigit()]\n",
    "        lines[i] = int(lines[i][0] + lines[i][-1])\n",
    "\n",
    "sum(lines)\n"
   ]
  },
  {
   "cell_type": "code",
   "execution_count": 48,
   "metadata": {},
   "outputs": [
    {
     "data": {
      "text/plain": [
       "54087"
      ]
     },
     "execution_count": 48,
     "metadata": {},
     "output_type": "execute_result"
    }
   ],
   "source": [
    "# read input strings from input.txt\n",
    "with open('input.txt', 'r') as f:\n",
    "    lines = f.readlines()\n",
    "    for i in range(len(lines)):\n",
    "        lines[i] = lines[i].strip()\n",
    "        # convert all numbers spelled out to digits\n",
    "        spelled_out = {\n",
    "            'zero': '0', 'one': '1', 'two': '2', 'three': '3', 'four': '4', 'five': '5', 'six': '6', 'seven': '7', 'eight': '8', 'nine': '9',\n",
    "            'ten': '10', 'eleven': '11', 'twelve': '12', 'thirteen': '13', 'fourteen': '14', 'fifteen': '15', 'sixteen': '16', 'seventeen': '17', 'eighteen': '18', 'nineteen': '19',\n",
    "            'twenty': '20', 'thirty': '30', 'forty': '40', 'fifty': '50', 'sixty': '60', 'seventy': '70', 'eighty': '80', 'ninety': '90',\n",
    "            'hundred': '00', 'thousand': '000', 'million': '000000', 'billion': '000000000', 'trillion': '000000000000'\n",
    "        }\n",
    "        \n",
    "        # replace spelled out numbers with digits\n",
    "        new_digits = []\n",
    "        j = 0\n",
    "        while True:\n",
    "            if j >= len(lines[i]):\n",
    "                break\n",
    "            if lines[i][j].isdigit():\n",
    "                new_digits.append(lines[i][j])\n",
    "                j += 1\n",
    "                continue\n",
    "            \n",
    "            \n",
    "            for k in range(3, 10):\n",
    "                if lines[i][j:j+k] in spelled_out.keys():\n",
    "                    new_digits.append(spelled_out[lines[i][j:j+k]])\n",
    "                    break\n",
    "            j += 1\n",
    "                    \n",
    "            \n",
    "        lines[i] = int(new_digits[0] + new_digits[-1])\n",
    "\n",
    "sum(lines)\n"
   ]
  },
  {
   "cell_type": "code",
   "execution_count": 34,
   "metadata": {},
   "outputs": [
    {
     "data": {
      "text/plain": [
       "['seventeen',\n",
       " 'thirteen',\n",
       " 'fourteen',\n",
       " 'eighteen',\n",
       " 'nineteen',\n",
       " 'thousand',\n",
       " 'trillion',\n",
       " 'fifteen',\n",
       " 'sixteen',\n",
       " 'seventy',\n",
       " 'hundred',\n",
       " 'million',\n",
       " 'billion',\n",
       " 'eleven',\n",
       " 'twelve',\n",
       " 'twenty',\n",
       " 'thirty',\n",
       " 'eighty',\n",
       " 'ninety',\n",
       " 'three',\n",
       " 'seven',\n",
       " 'eight',\n",
       " 'forty',\n",
       " 'fifty',\n",
       " 'sixty',\n",
       " 'zero',\n",
       " 'four',\n",
       " 'five',\n",
       " 'nine',\n",
       " 'one',\n",
       " 'two',\n",
       " 'six',\n",
       " 'ten']"
      ]
     },
     "execution_count": 34,
     "metadata": {},
     "output_type": "execute_result"
    }
   ],
   "source": [
    "sorted(spelled_out.keys(), key=len, reverse=True)"
   ]
  }
 ],
 "metadata": {
  "kernelspec": {
   "display_name": "Python 3",
   "language": "python",
   "name": "python3"
  },
  "language_info": {
   "codemirror_mode": {
    "name": "ipython",
    "version": 3
   },
   "file_extension": ".py",
   "mimetype": "text/x-python",
   "name": "python",
   "nbconvert_exporter": "python",
   "pygments_lexer": "ipython3",
   "version": "3.11.0"
  }
 },
 "nbformat": 4,
 "nbformat_minor": 2
}
